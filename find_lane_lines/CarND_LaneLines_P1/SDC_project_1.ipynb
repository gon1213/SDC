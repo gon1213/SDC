{
 "cells": [
  {
   "cell_type": "code",
   "execution_count": 1,
   "metadata": {
    "collapsed": true
   },
   "outputs": [],
   "source": [
    "import matplotlib.pyplot as plt\n",
    "import matplotlib.image as mpimg\n",
    "import numpy as np\n",
    "import cv2\n",
    "%matplotlib inline"
   ]
  },
  {
   "cell_type": "code",
   "execution_count": 45,
   "metadata": {
    "collapsed": false
   },
   "outputs": [],
   "source": [
    "import math\n",
    "\n",
    "def grayscale(img):\n",
    "    \"\"\"Applies the Grayscale transform\n",
    "    This will return an image with only one color channel\n",
    "    but NOTE: to see the returned image as grayscale\n",
    "    you should call plt.imshow(gray, cmap='gray')\"\"\"\n",
    "    return cv2.cvtColor(img, cv2.COLOR_RGB2GRAY)\n",
    "    # Or use BGR2GRAY if you read an image with cv2.imread()\n",
    "#     return cv2.cvtColor(img, cv2.COLOR_BGR2GRAY)\n",
    "    \n",
    "def canny(img, low_threshold, high_threshold):\n",
    "    \"\"\"Applies the Canny transform\"\"\"\n",
    "    return cv2.Canny(img, low_threshold, high_threshold)\n",
    "\n",
    "def gaussian_blur(img, kernel_size):\n",
    "    \"\"\"Applies a Gaussian Noise kernel\"\"\"\n",
    "    return cv2.GaussianBlur(img, (kernel_size, kernel_size), 0)\n",
    "\n",
    "def region_of_interest(img, vertices):\n",
    "    \"\"\"\n",
    "    Applies an image mask.\n",
    "    \n",
    "    Only keeps the region of the image defined by the polygon\n",
    "    formed from `vertices`. The rest of the image is set to black.\n",
    "    \"\"\"\n",
    "    #defining a blank mask to start with\n",
    "    mask = np.zeros_like(img)   \n",
    "    \n",
    "    #defining a 3 channel or 1 channel color to fill the mask with depending on the input image\n",
    "    if len(img.shape) > 2:\n",
    "        channel_count = img.shape[2]  # i.e. 3 or 4 depending on your image\n",
    "        ignore_mask_color = (255,) * channel_count\n",
    "    else:\n",
    "        ignore_mask_color = 255\n",
    "        \n",
    "    #filling pixels inside the polygon defined by \"vertices\" with the fill color    \n",
    "    cv2.fillPoly(mask, vertices, ignore_mask_color)\n",
    "    \n",
    "    #returning the image only where mask pixels are nonzero\n",
    "    masked_image = cv2.bitwise_and(img, mask)\n",
    "    return masked_image\n",
    "\n",
    "\n",
    "def draw_lines(img, lines, color=[255, 0, 0], thickness=5):\n",
    "    \"\"\"\n",
    "    NOTE: this is the function you might want to use as a starting point once you want to \n",
    "    average/extrapolate the line segments you detect to map out the full\n",
    "    extent of the lane (going from the result shown in raw-lines-example.mp4\n",
    "    to that shown in P1_example.mp4).  \n",
    "    \n",
    "    Think about things like separating line segments by their \n",
    "    slope ((y2-y1)/(x2-x1)) to decide which segments are part of the left\n",
    "    line vs. the right line.  Then, you can average the position of each of \n",
    "    the lines and extrapolate to the top and bottom of the lane.\n",
    "    \n",
    "    This function draws `lines` with `color` and `thickness`.    \n",
    "    Lines are drawn on the image inplace (mutates the image).\n",
    "    If you want to make the lines semi-transparent, think about combining\n",
    "    this function with the weighted_img() function below\n",
    "    \"\"\"\n",
    "    slope_pos = []\n",
    "    slope_neg = []\n",
    "    line_pos = []\n",
    "    line_neg = []\n",
    "    y_max = 320\n",
    "    y_min = 540\n",
    "\n",
    "\n",
    "    for line in lines:\n",
    "        for x1,y1,x2,y2 in line:\n",
    "            if line != None:\n",
    "\n",
    "                slope = (y2-y1)/(x2-x1)\n",
    "                if (slope>0.5) &(slope < 10):\n",
    "                    slope_pos.append(slope)\n",
    "                    \n",
    "                    line_pos.append([x1,y1,x2,y2])\n",
    "#                     print (line_pos)\n",
    "                elif (slope<-0.5) & (slope > -10):\n",
    "                    slope_neg.append(slope)\n",
    "                    line_neg.append([x1,y1,x2,y2])\n",
    "#                     print (line_neg)\n",
    "                if y1 < y_min:\n",
    "                    y_min = y1\n",
    "                elif y2 < y_min:\n",
    "                    y_min = y2\n",
    "                if y1 > y_max:\n",
    "                    y_max = y1\n",
    "                elif y2 > y_max:\n",
    "                    y_max = y2\n",
    "    if line_pos:\n",
    "        x1,y1,x2,y2=find_max_min(slope_pos,line_pos,y_max,y_min)\n",
    "#         print(\"pos_done\")\n",
    "        cv2.line(img, (x1, y1), (x2, y2), color, thickness)\n",
    "    if line_neg:\n",
    "        x1,y1,x2,y2=find_max_min(slope_neg,line_neg,y_max,y_min)\n",
    "#         print(\"neg_done\")\n",
    "        cv2.line(img, (x1, y1), (x2, y2), color, thickness)\n",
    "#     fin_line =[pos_line,neg_line]\n",
    "        \n",
    "#     for x1,y1,x2,y2 in fin_line:\n",
    "#         cv2.line(img, (x1, y1), (x2, y2), color, thickness)\n",
    "def find_max_min(slope,line,y_max,y_min):\n",
    "\n",
    "\n",
    "    slope_mean = np.mean(slope)\n",
    "#     print (\"line: \", line)\n",
    "    line_array = np.array(line)\n",
    "    line_mean = np.mean(line_array,axis=0)\n",
    "#     print(\"line mean: \",line_mean)\n",
    "    y_intercept = line_mean[1] - line_mean[0]*slope_mean\n",
    "\n",
    "    x_max = int((y_max-y_intercept)/slope_mean)\n",
    "    x_min = int((y_min-y_intercept)/slope_mean)\n",
    "    return x_min,y_min,x_max,y_max\n",
    "\n",
    "def hough_lines(img, rho, theta, threshold, min_line_len, max_line_gap):\n",
    "    \"\"\"\n",
    "    `img` should be the output of a Canny transform.\n",
    "        \n",
    "    Returns an image with hough lines drawn.\n",
    "    \"\"\"\n",
    "    lines = cv2.HoughLinesP(img, rho, theta, threshold, np.array([]), minLineLength=min_line_len, maxLineGap=max_line_gap)\n",
    "    line_img = np.zeros((img.shape[0], img.shape[1], 3), dtype=np.uint8)\n",
    "#     print (lines)\n",
    "    draw_lines(line_img, lines)\n",
    "    return line_img\n",
    "\n",
    "# Python 3 has support for cool math symbols.\n",
    "\n",
    "def weighted_img(img, initial_img, α=1., β=5., λ=0.):\n",
    "    \"\"\"\n",
    "    `img` is the output of the hough_lines(), An image with lines drawn on it.\n",
    "    Should be a blank image (all black) with lines drawn on it.\n",
    "    \n",
    "    `initial_img` should be the image before any processing.\n",
    "    \n",
    "    The result image is computed as follows:\n",
    "    \n",
    "    initial_img * α + img * β + λ\n",
    "    NOTE: initial_img and img must be the same shape!\n",
    "    \"\"\"\n",
    "    return cv2.addWeighted(initial_img, α, img, β, λ)"
   ]
  },
  {
   "cell_type": "code",
   "execution_count": 46,
   "metadata": {
    "collapsed": false
   },
   "outputs": [],
   "source": [
    "# #reading in an image\n",
    "# image = mpimg.imread('test_images/solidWhiteRight.jpg')\n",
    "# #printing out some stats and plotting\n",
    "# print('This image is:', type(image), 'with dimesions:', image.shape)\n",
    "# plt.imshow(image)  #call as plt.imshow(gray, cmap='gray') to show a grayscaled image\n",
    "\n"
   ]
  },
  {
   "cell_type": "code",
   "execution_count": 47,
   "metadata": {
    "collapsed": false
   },
   "outputs": [],
   "source": [
    "# import os\n",
    "# file = os.listdir(\"test_images/\")\n",
    "# for pic in file:\n",
    "#     image = mpimg.imread(\"test_images/\"+pic)\n",
    "    \n",
    "#     gray = grayscale(image)\n",
    "# #     plt.imshow(gray, cmap='gray')\n",
    "#     blur_gray = gaussian_blur(gray, 5)\n",
    "# #     plt.imshow(blur_gray)\n",
    "    \n",
    "#     edges = canny(blur_gray,150,200)\n",
    "# #     plt.imshow(edges)\n",
    "# #     imshape = image.shape\n",
    "#     vertices = np.array([[(0,540),(450,320),(490,320), (960,540)]], dtype=np.int32)\n",
    "\n",
    "    \n",
    "#     masked_edges = region_of_interest(edges,vertices)\n",
    "# #     plt.imshow(masked_edges)\n",
    "#     line_image = hough_lines(masked_edges,1,np.pi/180,40,20,50) \n",
    "# #     plt.imshow(line_image)\n",
    "    \n",
    "#     lines_edges = weighted_img(line_image, image)\n",
    "# #     plt.imshow(lines_edges)\n",
    "#     #save the \n",
    "#     pic = pic.replace(\".jpg\",\"\" )\n",
    "#     fin = \"test_images_output/\"+pic+\"_finish\"+\".jpg\"\n",
    "#     plt.imsave(fin, lines_edges)"
   ]
  },
  {
   "cell_type": "code",
   "execution_count": 48,
   "metadata": {
    "collapsed": false,
    "scrolled": true
   },
   "outputs": [],
   "source": [
    "# f, (ax1, ax2, ax3 ,ax4 ,ax5) = plt.subplots(2, 3, sharey=True, figsize=(10, 4))\n",
    "# output_file = os.listdir(\"test_images_output/\")\n",
    "# for i in output_file:\n",
    "#     plt.figure()\n",
    "#     path = \"test_images_output/\"+i\n",
    "#     fin_image = mpimg.imread(path)\n",
    "#     plt.imshow(fin_image)\n",
    "    \n"
   ]
  },
  {
   "cell_type": "code",
   "execution_count": null,
   "metadata": {
    "collapsed": true
   },
   "outputs": [],
   "source": []
  },
  {
   "cell_type": "code",
   "execution_count": 49,
   "metadata": {
    "collapsed": false
   },
   "outputs": [],
   "source": [
    "from moviepy.editor import VideoFileClip\n",
    "from IPython.display import HTML"
   ]
  },
  {
   "cell_type": "code",
   "execution_count": 74,
   "metadata": {
    "collapsed": true
   },
   "outputs": [],
   "source": [
    "def process_image(image):\n",
    "    # NOTE: The output you return should be a color image (3 channel) for processing video below\n",
    "    # TODO: put your pipeline here,\n",
    "    # you should return the final output (image with lines are drawn on lanes)\n",
    "#     image = mpimg.imread(image)\n",
    "    \n",
    "    gray = grayscale(image)\n",
    "    blur_gray = gaussian_blur(gray, 7)\n",
    "\n",
    "    edges = canny(blur_gray,150,200)\n",
    "\n",
    "    vertices = np.array([[(0,540),(460,320),(500,320), (960,540)]], dtype=np.int32)\n",
    "\n",
    "    \n",
    "    masked_edges = region_of_interest(edges,vertices)\n",
    "\n",
    "    line_image = hough_lines(masked_edges,2,np.pi/180,30,5,50)\n",
    "\n",
    "    \n",
    "    lines_edges = weighted_img(line_image, image)\n",
    "    return lines_edges"
   ]
  },
  {
   "cell_type": "code",
   "execution_count": 72,
   "metadata": {
    "collapsed": false,
    "scrolled": true
   },
   "outputs": [
    {
     "name": "stdout",
     "output_type": "stream",
     "text": [
      "[MoviePy] >>>> Building video extra.mp4\n",
      "[MoviePy] Writing video extra.mp4\n"
     ]
    },
    {
     "name": "stderr",
     "output_type": "stream",
     "text": [
      "100%|██████████| 251/251 [00:14<00:00, 17.38it/s]\n"
     ]
    },
    {
     "name": "stdout",
     "output_type": "stream",
     "text": [
      "[MoviePy] Done.\n",
      "[MoviePy] >>>> Video ready: extra.mp4 \n",
      "\n",
      "CPU times: user 5.68 s, sys: 1.34 s, total: 7.02 s\n",
      "Wall time: 16.7 s\n"
     ]
    }
   ],
   "source": [
    "challenge_output = 'extra.mp4'\n",
    "clip2 = VideoFileClip('challenge.mp4')\n",
    "challenge_clip = clip2.fl_image(process_image)\n",
    "%time challenge_clip.write_videofile(challenge_output, audio=False)"
   ]
  },
  {
   "cell_type": "code",
   "execution_count": 73,
   "metadata": {
    "collapsed": false
   },
   "outputs": [
    {
     "data": {
      "text/html": [
       "\n",
       "<video width=\"960\" height=\"540\" controls>\n",
       "  <source src=\"extra.mp4\">\n",
       "</video>\n"
      ],
      "text/plain": [
       "<IPython.core.display.HTML object>"
      ]
     },
     "execution_count": 73,
     "metadata": {},
     "output_type": "execute_result"
    }
   ],
   "source": [
    "HTML(\"\"\"\n",
    "<video width=\"960\" height=\"540\" controls>\n",
    "  <source src=\"{0}\">\n",
    "</video>\n",
    "\"\"\".format(challenge_output))"
   ]
  },
  {
   "cell_type": "code",
   "execution_count": null,
   "metadata": {
    "collapsed": false
   },
   "outputs": [],
   "source": [
    "# white_output = 'white.mp4'\n",
    "# clip1 = VideoFileClip(\"solidWhiteRight.mp4\")\n",
    "# # white_clip = clip1\n",
    "# white_clip = clip1.fl_image(process_image) #NOTE: this function expects color images!!\n",
    "# %time white_clip.write_videofile(white_output, audio=False)"
   ]
  },
  {
   "cell_type": "code",
   "execution_count": null,
   "metadata": {
    "collapsed": false
   },
   "outputs": [],
   "source": [
    "# HTML(\"\"\"\n",
    "# <video width=\"960\" height=\"540\" controls>\n",
    "#   <source src=\"{0}\">\n",
    "# </video>\n",
    "# \"\"\".format(white_output))"
   ]
  },
  {
   "cell_type": "code",
   "execution_count": null,
   "metadata": {
    "collapsed": false
   },
   "outputs": [],
   "source": [
    "# yellow_output = 'yellow.mp4'\n",
    "# clip2 = VideoFileClip('solidYellowLeft.mp4')\n",
    "# yellow_clip = clip2.fl_image(process_image)\n",
    "# %time yellow_clip.write_videofile(yellow_output, audio=False)"
   ]
  },
  {
   "cell_type": "code",
   "execution_count": null,
   "metadata": {
    "collapsed": true
   },
   "outputs": [],
   "source": [
    "# HTML(\"\"\"\n",
    "# <video width=\"960\" height=\"540\" controls>\n",
    "#   <source src=\"{0}\">\n",
    "# </video>\n",
    "# \"\"\".format(yellow_output))"
   ]
  },
  {
   "cell_type": "markdown",
   "metadata": {},
   "source": [
    "### Reflections ### \n",
    "\n",
    "I think the code provided in the project make the project easier to work on. The step is easy to follow. I feel like the lesson on HoughLine can be explain about the math behind rho and theta more. The hard part is trying to take the all the outline away.\n"
   ]
  }
 ],
 "metadata": {
  "anaconda-cloud": {},
  "kernelspec": {
   "display_name": "Python [conda env:py35]",
   "language": "python",
   "name": "conda-env-py35-py"
  },
  "language_info": {
   "codemirror_mode": {
    "name": "ipython",
    "version": 3
   },
   "file_extension": ".py",
   "mimetype": "text/x-python",
   "name": "python",
   "nbconvert_exporter": "python",
   "pygments_lexer": "ipython3",
   "version": "3.5.2"
  }
 },
 "nbformat": 4,
 "nbformat_minor": 1
}
