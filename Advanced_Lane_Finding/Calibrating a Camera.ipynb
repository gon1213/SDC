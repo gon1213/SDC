{
 "cells": [
  {
   "cell_type": "code",
   "execution_count": 2,
   "metadata": {
    "collapsed": false,
    "deletable": true,
    "editable": true
   },
   "outputs": [
    {
     "name": "stderr",
     "output_type": "stream",
     "text": [
      "ERROR:root:Line magic function `%matplotlib.inline` not found.\n"
     ]
    }
   ],
   "source": [
    "import numpy as np\n",
    "import cv2\n",
    "import matplotlib.pyplot as plt\n",
    "import matplotlib.image as mpimg\n",
    "%matplotlib.inline\n",
    "\n",
    "\n",
    "# to calibratng a camera, it is good to have around 20 images with different angle \n",
    "\n",
    "# img = mpimg.imread(\"../calibration1.jpg\")\n",
    "# plt.imshow(img)\n",
    "\n",
    "#since i do not have the real image, skip this part\n"
   ]
  },
  {
   "cell_type": "code",
   "execution_count": null,
   "metadata": {
    "collapsed": true,
    "deletable": true,
    "editable": true
   },
   "outputs": [],
   "source": [
    "objpoints = [] #3D points in real world space\n",
    "imgpoints = [] #2D points in image place\n",
    "\n",
    "objp = np.zeros((6*8, 3), np.float32)\n",
    "objp[:,:2] = np.mgrid[0:8,0:6].T.reshape(-1,2)\n",
    "\n",
    "#convert image to grayscale\n",
    "gray = cv2.cvtColor(img,cv2.COLOR_BGR2GRAY)\n",
    "\n",
    "# find chess board corners\n",
    "ret, corners = cv2.findChessboardCorners(gray, (8,6), None)\n",
    "\n",
    "#if corners are fund, add object points, image points\n",
    "if ret == True:\n",
    "    imgpoints.append(corners)\n",
    "    objpoints.append(objp)\n",
    "    \n",
    "    img = cv2.drawChessboardCorners(img, (8,6), corners, ret)\n",
    "    plt.imshow(img)\n"
   ]
  },
  {
   "cell_type": "code",
   "execution_count": null,
   "metadata": {
    "collapsed": true,
    "deletable": true,
    "editable": true
   },
   "outputs": [],
   "source": [
    "cv2.calibrateCamera(objpoints, imgpoints, gray.shape[::-1],None,None)\n",
    "# return values: ret, mtx, dist, rvecs, tvecs\n",
    "#dist : distortion coefficient\n",
    "#mtx: camera matrix\n",
    "#rvecs: rotation\n",
    "#tvecs: translation vectors\n",
    "\n",
    "dst = cv2.undistort(img, mtx, dist, None, mtx)\n",
    "# dst: destination image"
   ]
  },
  {
   "cell_type": "code",
   "execution_count": null,
   "metadata": {
    "collapsed": true
   },
   "outputs": [],
   "source": []
  },
  {
   "cell_type": "code",
   "execution_count": null,
   "metadata": {
    "collapsed": true
   },
   "outputs": [],
   "source": [
    "# Compute the perspective transform, M, given source and destination points:\n",
    "\n",
    "M = cv2.getPerspectiveTransform(src, dst)\n",
    "# Compute the inverse perspective transform:\n",
    "\n",
    "Minv = cv2.getPerspectiveTransform(dst, src)\n",
    "# Warp an image using the perspective transform, M:\n",
    "\n",
    "warped = cv2.warpPerspective(img, M, img_size, flags=cv2.INTER_LINEAR)"
   ]
  },
  {
   "cell_type": "code",
   "execution_count": null,
   "metadata": {
    "collapsed": true
   },
   "outputs": [],
   "source": []
  }
 ],
 "metadata": {
  "kernelspec": {
   "display_name": "Python 3",
   "language": "python",
   "name": "python3"
  },
  "language_info": {
   "codemirror_mode": {
    "name": "ipython",
    "version": 3
   },
   "file_extension": ".py",
   "mimetype": "text/x-python",
   "name": "python",
   "nbconvert_exporter": "python",
   "pygments_lexer": "ipython3",
   "version": "3.5.2"
  },
  "widgets": {
   "state": {},
   "version": "1.1.2"
  }
 },
 "nbformat": 4,
 "nbformat_minor": 2
}
